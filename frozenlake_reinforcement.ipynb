{
  "nbformat": 4,
  "nbformat_minor": 0,
  "metadata": {
    "colab": {
      "provenance": [],
      "authorship_tag": "ABX9TyNM6rb71VmiDnHInRsmhBo4",
      "include_colab_link": true
    },
    "kernelspec": {
      "name": "python3",
      "display_name": "Python 3"
    },
    "language_info": {
      "name": "python"
    }
  },
  "cells": [
    {
      "cell_type": "markdown",
      "metadata": {
        "id": "view-in-github",
        "colab_type": "text"
      },
      "source": [
        "<a href=\"https://colab.research.google.com/github/hindia-vic/reinforcement_learning/blob/main/frozenlake_reinforcement.ipynb\" target=\"_parent\"><img src=\"https://colab.research.google.com/assets/colab-badge.svg\" alt=\"Open In Colab\"/></a>"
      ]
    },
    {
      "cell_type": "code",
      "execution_count": 17,
      "metadata": {
        "id": "FbBK1vLDdmE0"
      },
      "outputs": [],
      "source": [
        "import numpy as np\n",
        "import  gym\n",
        "import random\n",
        "import time\n",
        "from IPython.display import clear_output"
      ]
    },
    {
      "cell_type": "code",
      "source": [
        "print(gym.__version__)"
      ],
      "metadata": {
        "colab": {
          "base_uri": "https://localhost:8080/"
        },
        "id": "IdPb5LnVoGXd",
        "outputId": "30d866fc-31da-45fb-df59-94453bfd6ab6"
      },
      "execution_count": 15,
      "outputs": [
        {
          "output_type": "stream",
          "name": "stdout",
          "text": [
            "0.25.2\n"
          ]
        }
      ]
    },
    {
      "cell_type": "code",
      "source": [
        "env=gym.make(\"FrozenLake-v1\",new_step_api=True)"
      ],
      "metadata": {
        "id": "-aN4uy01gO6I"
      },
      "execution_count": 25,
      "outputs": []
    },
    {
      "cell_type": "code",
      "source": [
        "action_space_size=env.action_space.n\n",
        "state_space_size=env.observation_space.n\n",
        "q_table=np.zeros((state_space_size,action_space_size))\n",
        "print(q_table)"
      ],
      "metadata": {
        "colab": {
          "base_uri": "https://localhost:8080/"
        },
        "id": "4n8g8Rzvgme9",
        "outputId": "2ddac402-5fdd-4a17-b773-77a35f39c38e"
      },
      "execution_count": 26,
      "outputs": [
        {
          "output_type": "stream",
          "name": "stdout",
          "text": [
            "[[0. 0. 0. 0.]\n",
            " [0. 0. 0. 0.]\n",
            " [0. 0. 0. 0.]\n",
            " [0. 0. 0. 0.]\n",
            " [0. 0. 0. 0.]\n",
            " [0. 0. 0. 0.]\n",
            " [0. 0. 0. 0.]\n",
            " [0. 0. 0. 0.]\n",
            " [0. 0. 0. 0.]\n",
            " [0. 0. 0. 0.]\n",
            " [0. 0. 0. 0.]\n",
            " [0. 0. 0. 0.]\n",
            " [0. 0. 0. 0.]\n",
            " [0. 0. 0. 0.]\n",
            " [0. 0. 0. 0.]\n",
            " [0. 0. 0. 0.]]\n"
          ]
        }
      ]
    },
    {
      "cell_type": "code",
      "source": [
        "num_episodes=10000\n",
        "max_steps_per_episode=250\n",
        "learning_rate=0.1\n",
        "discount_rate=0.99\n",
        "exploration_rate=1\n",
        "max_exploration_rate=1\n",
        "min_exploration_rate=0.01\n",
        "exploration_decay_rate=0.001"
      ],
      "metadata": {
        "id": "bMPMfIpMg800"
      },
      "execution_count": 31,
      "outputs": []
    },
    {
      "cell_type": "code",
      "source": [
        "rewards_all_episodes = []\n",
        "\n",
        "for episode in range(num_episodes):\n",
        "    state = env.reset()\n",
        "    done = False\n",
        "    rewards_current_episode = 0\n",
        "\n",
        "    for step in range(max_steps_per_episode):\n",
        "        exploration_rate_threshold = random.uniform(0, 1)\n",
        "        if exploration_rate_threshold > exploration_rate:\n",
        "            action = np.argmax(q_table[state, :])\n",
        "        else:\n",
        "            action = env.action_space.sample()\n",
        "\n",
        "        # Handle the case where more than 4 values are returned\n",
        "        result = env.step(action)\n",
        "        new_state, reward, done = result[:3]\n",
        "        # If there are more values, they will be ignored\n",
        "\n",
        "        q_table[state, action] = q_table[state, action] * (1 - learning_rate) + \\\n",
        "                                 learning_rate * (reward + discount_rate * np.max(q_table[new_state, :]))\n",
        "\n",
        "        state = new_state\n",
        "        rewards_current_episode += reward\n",
        "\n",
        "        if done:\n",
        "            break\n",
        "\n",
        "    exploration_rate = min_exploration_rate + \\\n",
        "                       (max_exploration_rate - min_exploration_rate) * np.exp(-exploration_decay_rate * episode)\n",
        "\n",
        "    rewards_all_episodes.append(rewards_current_episode)\n",
        "\n",
        "# Calculate and print the average reward per thousand episodes\n",
        "rewards_per_thousand_episodes = np.split(np.array(rewards_all_episodes), num_episodes // 1000)\n",
        "count = 1000\n",
        "\n",
        "print(\"********Average reward per thousand episodes********\\n\")\n",
        "for r in rewards_per_thousand_episodes:\n",
        "    print(count, \":\", str(sum(r) / 1000))\n",
        "    count += 1000"
      ],
      "metadata": {
        "colab": {
          "base_uri": "https://localhost:8080/"
        },
        "id": "sjlO6qxMjDKh",
        "outputId": "19a4bdd9-5580-493e-a024-2b322ba7e9ec"
      },
      "execution_count": 32,
      "outputs": [
        {
          "output_type": "stream",
          "name": "stdout",
          "text": [
            "********Average reward per thousand episodes********\n",
            "\n",
            "1000 : 0.054\n",
            "2000 : 0.2\n",
            "3000 : 0.404\n",
            "4000 : 0.592\n",
            "5000 : 0.685\n",
            "6000 : 0.751\n",
            "7000 : 0.734\n",
            "8000 : 0.756\n",
            "9000 : 0.751\n",
            "10000 : 0.77\n"
          ]
        }
      ]
    },
    {
      "cell_type": "code",
      "source": [
        "print(q_table)"
      ],
      "metadata": {
        "colab": {
          "base_uri": "https://localhost:8080/"
        },
        "id": "VOs8tMgeuB73",
        "outputId": "6a3989f2-71d8-473c-d28f-812fdd7d314e"
      },
      "execution_count": 30,
      "outputs": [
        {
          "output_type": "stream",
          "name": "stdout",
          "text": [
            "[[0.5585581  0.4850327  0.5039981  0.50043675]\n",
            " [0.38585999 0.32309012 0.27270079 0.46201438]\n",
            " [0.33821819 0.26944653 0.26907631 0.26461387]\n",
            " [0.13762215 0.01976431 0.0553618  0.0188478 ]\n",
            " [0.5727923  0.39130629 0.38856612 0.44663084]\n",
            " [0.         0.         0.         0.        ]\n",
            " [0.22445042 0.13133267 0.15133533 0.09581136]\n",
            " [0.         0.         0.         0.        ]\n",
            " [0.46453026 0.35364037 0.33725339 0.5970324 ]\n",
            " [0.38066087 0.62784076 0.45377206 0.43062999]\n",
            " [0.52748738 0.35508155 0.4207657  0.23661497]\n",
            " [0.         0.         0.         0.        ]\n",
            " [0.         0.         0.         0.        ]\n",
            " [0.36452103 0.44409536 0.77680078 0.35619656]\n",
            " [0.70079942 0.90494425 0.78959465 0.73080054]\n",
            " [0.         0.         0.         0.        ]]\n"
          ]
        }
      ]
    }
  ]
}